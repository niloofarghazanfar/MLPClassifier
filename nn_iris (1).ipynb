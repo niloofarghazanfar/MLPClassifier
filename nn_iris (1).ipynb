{
  "nbformat": 4,
  "nbformat_minor": 0,
  "metadata": {
    "colab": {
      "name": "nn_iris.ipynb",
      "provenance": [],
      "collapsed_sections": []
    },
    "kernelspec": {
      "name": "python3",
      "display_name": "Python 3"
    },
    "language_info": {
      "name": "python"
    }
  },
  "cells": [
    {
      "cell_type": "code",
      "metadata": {
        "id": "PjzC-DHTWPMO"
      },
      "source": [
        "from sklearn.neural_network import MLPClassifier\n",
        "from sklearn import datasets"
      ],
      "execution_count": 1,
      "outputs": []
    },
    {
      "cell_type": "code",
      "metadata": {
        "id": "OBsNpnjmWYI_"
      },
      "source": [
        "iris = datasets.load_iris()\n",
        "X = iris.data\n",
        "y = iris.target"
      ],
      "execution_count": 2,
      "outputs": []
    },
    {
      "cell_type": "code",
      "metadata": {
        "id": "yJpsNd0NWkmE"
      },
      "source": [
        "model = MLPClassifier(hidden_layer_sizes=(40) , max_iter=100 , alpha=1e-4, solver='sgd', random_state=1 \n",
        "                     ,verbose=True , learning_rate_init=.1 )"
      ],
      "execution_count": 3,
      "outputs": []
    },
    {
      "cell_type": "code",
      "metadata": {
        "colab": {
          "base_uri": "https://localhost:8080/"
        },
        "id": "xh6hm1rpWqcG",
        "outputId": "13972cea-c6de-4b70-c151-b164ec5d540c"
      },
      "source": [
        "from sklearn.model_selection import train_test_split\n",
        "Xtrain, Xtest, ytrain, ytest = train_test_split(X, y, test_size=0.2, random_state=0)\n",
        "model.fit(Xtrain, ytrain);"
      ],
      "execution_count": 4,
      "outputs": [
        {
          "output_type": "stream",
          "text": [
            "Iteration 1, loss = 1.80031607\n",
            "Iteration 2, loss = 3.76054065\n",
            "Iteration 3, loss = 1.24767915\n",
            "Iteration 4, loss = 0.85800132\n",
            "Iteration 5, loss = 0.73960219\n",
            "Iteration 6, loss = 0.56700320\n",
            "Iteration 7, loss = 0.49782855\n",
            "Iteration 8, loss = 0.44011231\n",
            "Iteration 9, loss = 0.40635031\n",
            "Iteration 10, loss = 0.38308633\n",
            "Iteration 11, loss = 0.36166206\n",
            "Iteration 12, loss = 0.33884547\n",
            "Iteration 13, loss = 0.31705649\n",
            "Iteration 14, loss = 0.33701699\n",
            "Iteration 15, loss = 0.79218500\n",
            "Iteration 16, loss = 1.61698776\n",
            "Iteration 17, loss = 1.35907088\n",
            "Iteration 18, loss = 0.36668575\n",
            "Iteration 19, loss = 0.40397265\n",
            "Iteration 20, loss = 0.33619117\n",
            "Iteration 21, loss = 0.31358869\n",
            "Iteration 22, loss = 0.29382683\n",
            "Iteration 23, loss = 0.27322620\n",
            "Iteration 24, loss = 0.25359943\n",
            "Iteration 25, loss = 0.23439150\n",
            "Iteration 26, loss = 0.21703717\n",
            "Iteration 27, loss = 0.20164060\n",
            "Iteration 28, loss = 0.20234341\n",
            "Iteration 29, loss = 0.35840786\n",
            "Iteration 30, loss = 1.50002553\n",
            "Iteration 31, loss = 2.43805860\n",
            "Iteration 32, loss = 0.35267583\n",
            "Iteration 33, loss = 0.63861365\n",
            "Iteration 34, loss = 0.28423433\n",
            "Iteration 35, loss = 0.26961303\n",
            "Iteration 36, loss = 0.26737834\n",
            "Iteration 37, loss = 0.26244255\n",
            "Iteration 38, loss = 0.25491670\n",
            "Training loss did not improve more than tol=0.000100 for 10 consecutive epochs. Stopping.\n"
          ],
          "name": "stdout"
        }
      ]
    },
    {
      "cell_type": "code",
      "metadata": {
        "colab": {
          "base_uri": "https://localhost:8080/"
        },
        "id": "KQABmqHlXJu7",
        "outputId": "b75991dc-02ed-429d-fe2f-f7dc1527e31f"
      },
      "source": [
        "model.score(Xtrain, ytrain)"
      ],
      "execution_count": 5,
      "outputs": [
        {
          "output_type": "execute_result",
          "data": {
            "text/plain": [
              "0.95"
            ]
          },
          "metadata": {
            "tags": []
          },
          "execution_count": 5
        }
      ]
    },
    {
      "cell_type": "code",
      "metadata": {
        "colab": {
          "base_uri": "https://localhost:8080/"
        },
        "id": "HiSuUS4yXtBA",
        "outputId": "b4e17019-e326-4fa8-9765-6123bacf7d43"
      },
      "source": [
        "y_pred = model.predict(Xtest)\n",
        "y_pred"
      ],
      "execution_count": 6,
      "outputs": [
        {
          "output_type": "execute_result",
          "data": {
            "text/plain": [
              "array([2, 1, 0, 2, 0, 2, 0, 1, 1, 1, 2, 1, 1, 1, 1, 0, 1, 1, 0, 0, 2, 2,\n",
              "       0, 0, 2, 0, 0, 1, 1, 0])"
            ]
          },
          "metadata": {
            "tags": []
          },
          "execution_count": 6
        }
      ]
    },
    {
      "cell_type": "code",
      "metadata": {
        "colab": {
          "base_uri": "https://localhost:8080/"
        },
        "id": "Vxl2XGDrX4Kt",
        "outputId": "1e140d3e-cafc-4ccc-dd54-8a8b63e128e4"
      },
      "source": [
        "model.score(Xtest, ytest)"
      ],
      "execution_count": 7,
      "outputs": [
        {
          "output_type": "execute_result",
          "data": {
            "text/plain": [
              "0.9666666666666667"
            ]
          },
          "metadata": {
            "tags": []
          },
          "execution_count": 7
        }
      ]
    },
    {
      "cell_type": "code",
      "metadata": {
        "colab": {
          "base_uri": "https://localhost:8080/"
        },
        "id": "hsm8ssuGX9GZ",
        "outputId": "a8cce696-fbeb-47b8-909d-eb10c35363fb"
      },
      "source": [
        "from sklearn.metrics import accuracy_score\n",
        "accuracy_score(ytest, y_pred)"
      ],
      "execution_count": 8,
      "outputs": [
        {
          "output_type": "execute_result",
          "data": {
            "text/plain": [
              "0.9666666666666667"
            ]
          },
          "metadata": {
            "tags": []
          },
          "execution_count": 8
        }
      ]
    },
    {
      "cell_type": "code",
      "metadata": {
        "id": "54VwMlLJDIiu"
      },
      "source": [
        "from mlxtend.plotting import plot_confusion_matrix"
      ],
      "execution_count": 9,
      "outputs": []
    },
    {
      "cell_type": "code",
      "metadata": {
        "id": "Ua2IjKTPDwHq"
      },
      "source": [
        "from sklearn.metrics import confusion_matrix\n",
        "conf_matrix = confusion_matrix(ytest, y_pred)"
      ],
      "execution_count": 12,
      "outputs": []
    },
    {
      "cell_type": "code",
      "metadata": {
        "colab": {
          "base_uri": "https://localhost:8080/"
        },
        "id": "SX-AtD4NLQ9W",
        "outputId": "1c7fc2a9-7e2c-4a7a-b958-42d9428dfd26"
      },
      "source": [
        "conf_matrix"
      ],
      "execution_count": 16,
      "outputs": [
        {
          "output_type": "execute_result",
          "data": {
            "text/plain": [
              "array([[11,  0,  0],\n",
              "       [ 0, 12,  1],\n",
              "       [ 0,  0,  6]])"
            ]
          },
          "metadata": {
            "tags": []
          },
          "execution_count": 16
        }
      ]
    },
    {
      "cell_type": "code",
      "metadata": {
        "colab": {
          "base_uri": "https://localhost:8080/",
          "height": 432
        },
        "id": "gafENEH_DRL_",
        "outputId": "f6521d21-f34f-4d0c-8280-8e8da08872ba"
      },
      "source": [
        "import matplotlib.pyplot as plt\n",
        "fig, ax = plot_confusion_matrix(conf_mat=conf_matrix, figsize=(6, 6), cmap=plt.cm.Greens)\n",
        "plt.xlabel('Predictions', fontsize=18)\n",
        "plt.ylabel('Actuals', fontsize=18)\n",
        "plt.title('Confusion Matrix', fontsize=18)\n",
        "plt.show()"
      ],
      "execution_count": 14,
      "outputs": [
        {
          "output_type": "display_data",
          "data": {
            "image/png": "[encoded data removed]",
            "text/plain": [
              "<Figure size 432x432 with 1 Axes>"
            ]
          },
          "metadata": {
            "tags": [],
            "needs_background": "light"
          }
        }
      ]
    },
    {
      "cell_type": "code",
      "metadata": {
        "id": "2l6wvIfpGGdJ"
      },
      "source": [
        "  from sklearn.metrics import roc_curve, roc_auc_score"
      ],
      "execution_count": 15,
      "outputs": []
    },
    {
      "cell_type": "code",
      "metadata": {
        "id": "Qcl5x0gnGJW4"
      },
      "source": [
        ""
      ],
      "execution_count": null,
      "outputs": []
    }
  ]
}